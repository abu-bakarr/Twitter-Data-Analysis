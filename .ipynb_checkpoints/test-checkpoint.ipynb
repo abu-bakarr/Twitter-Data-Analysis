{
 "cells": [
  {
   "cell_type": "code",
   "execution_count": 1,
   "id": "quantitative-farming",
   "metadata": {},
   "outputs": [],
   "source": [
    "import pandas as pd"
   ]
  },
  {
   "cell_type": "code",
   "execution_count": null,
   "id": "working-amsterdam",
   "metadata": {},
   "outputs": [],
   "source": [
    "class Clean_Tweets:\n",
    "    \"\"\"\n",
    "    The PEP8 Standard AMAZING!!!\n",
    "    \"\"\"\n",
    "\n",
    "    def __init__(self, df: pd.DataFrame):\n",
    "        self.df = df\n",
    "        print('Automation in Action...!!!')\n",
    "\n",
    "    def drop_unwanted_column(self, df: pd.DataFrame) -> pd.DataFrame:\n",
    "        \"\"\"\n",
    "        remove rows that has column names. This error originated from\n",
    "        the data collection stage.  \n",
    "        \"\"\"\n",
    "        unwanted_rows = self.df[self.df['retweet_count']\n",
    "                                == 'retweet_count'].index\n",
    "        self.df.drop(unwanted_rows, inplace=True)\n",
    "        self.df = self.df[self.df['polarity'] != 'polarity']\n",
    "\n",
    "        return self.df\n",
    "\n",
    "    def drop_duplicate(self, df: pd.DataFrame) -> pd.DataFrame:\n",
    "        \"\"\"\n",
    "        drop duplicate rows\n",
    "        \"\"\"\n",
    "        self.df = self.df.drop_duplicates().drop_duplicates(subset='original_text')\n",
    "\n",
    "        return df\n",
    "\n",
    "    def convert_to_datetime(self, df: pd.DataFrame) -> pd.DataFrame:\n",
    "        \"\"\"\n",
    "        convert column to datetime\n",
    "        \"\"\"\n",
    "        self.df['created_at'] = pd.to_datetime(\n",
    "            self.df['created_at'], errors='coerce')\n",
    "\n",
    "        self.df = self.df[self.df['created_at'] >= '2020-12-31']\n",
    "\n",
    "        return self.df\n",
    "\n",
    "    def convert_to_numbers(self, df: pd.DataFrame) -> pd.DataFrame:\n",
    "        \"\"\"\n",
    "        convert columns like polarity, subjectivity, retweet_count\n",
    "        favorite_count etc to numbers\n",
    "        \"\"\"\n",
    "        self.df['polarity'] = pd.to_numeric(\n",
    "            self.df['polarity'], errors='coerce')\n",
    "        self.df['retweet_count'] = pd.to_numeric(\n",
    "            self.df['retweet_count'], errors='coerce')\n",
    "        self.df['favorite_count'] = pd.to_numeric(\n",
    "            self.df['favorite_count'], errors='coerce')\n",
    "\n",
    "        return self.df\n",
    "\n",
    "    def remove_non_english_tweets(self) -> pd.DataFrame:\n",
    "        \"\"\"\n",
    "        remove non english tweets from lang\n",
    "        \"\"\"\n",
    "\n",
    "        self.df = self.df.query(\"lang == 'en' \")\n",
    "\n",
    "        return self.df\n",
    "\n",
    "\n",
    "if __name__ == \"__main__\":\n",
    "    tweet_df = pd.read_csv(\"./data/covid19.json\")\n",
    "    cleaner = Clean_Tweets(tweet_df)\n"
   ]
  },
  {
   "cell_type": "code",
   "execution_count": null,
   "id": "extraordinary-capacity",
   "metadata": {},
   "outputs": [],
   "source": []
  }
 ],
 "metadata": {
  "kernelspec": {
   "display_name": "Python 3",
   "language": "python",
   "name": "python3"
  },
  "language_info": {
   "codemirror_mode": {
    "name": "ipython",
    "version": 3
   },
   "file_extension": ".py",
   "mimetype": "text/x-python",
   "name": "python",
   "nbconvert_exporter": "python",
   "pygments_lexer": "ipython3",
   "version": "3.8.8"
  }
 },
 "nbformat": 4,
 "nbformat_minor": 5
}
